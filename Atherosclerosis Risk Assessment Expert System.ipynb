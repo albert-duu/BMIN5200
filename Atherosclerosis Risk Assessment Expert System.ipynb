{
 "cells": [
  {
   "cell_type": "code",
   "execution_count": 1,
   "id": "430abe1c-261b-4ac4-b291-ee78aa1d8b9b",
   "metadata": {},
   "outputs": [],
   "source": [
    "import clips\n",
    "import sys\n",
    "sys.path.append('./src/')\n",
    "from clips_util import print_facts, print_rules, print_templates, build_read_assert"
   ]
  },
  {
   "cell_type": "code",
   "execution_count": 2,
   "id": "d2889179-e9fe-4516-850a-82f58d1fb921",
   "metadata": {},
   "outputs": [],
   "source": [
    "# create the CLIPS environment\n",
    "env = clips.Environment()\n",
    "\n",
    "import logging\n",
    "logging.basicConfig(level=10, format='%(message)s')\n",
    "router = clips.LoggingRouter()\n",
    "env.add_router(router)"
   ]
  },
  {
   "cell_type": "code",
   "execution_count": 3,
   "id": "0dcaeaf4-fd52-4e41-be3c-991dc77c5dfd",
   "metadata": {},
   "outputs": [],
   "source": [
    "# Define templates\n",
    "DEFTEMPLATE_PATIENT = \"\"\"\n",
    "(deftemplate patient \n",
    "    (slot name_is (type STRING)) \n",
    "    (slot age_is (type INTEGER))\n",
    "    (slot gender_is (type SYMBOL)\n",
    "        (allowed-symbols male female))\n",
    "    (slot LDL_is (type FLOAT)) \n",
    "    (slot HDL_is (type FLOAT))\n",
    "    (slot Lp_a_is (type FLOAT))\n",
    "    (slot blood_pressure_is (type FLOAT))\n",
    "    (slot smoking_status_is (type SYMBOL)\n",
    "        (allowed-symbols yes no))\n",
    "    (slot family_history_is (type SYMBOL)\n",
    "        (allowed-symbols yes no))\n",
    "    (slot triglycerides_is (type FLOAT))\n",
    "    (slot overall_risk (type SYMBOL)\n",
    "        (default none)\n",
    "        (allowed-symbols none low moderate high))\n",
    ")\n",
    "\"\"\"\n",
    "env.build(DEFTEMPLATE_PATIENT)"
   ]
  },
  {
   "cell_type": "code",
   "execution_count": 4,
   "id": "69019e45-8089-4a5c-968a-cffd5b2e988b",
   "metadata": {},
   "outputs": [],
   "source": [
    "DEFTEMPLATE_RISK_INDICATOR = \"\"\"\n",
    "(deftemplate risk_indicator\n",
    "    (slot type (type SYMBOL))\n",
    "    (slot patient_name (type STRING))\n",
    ")\n",
    "\"\"\"\n",
    "env.build(DEFTEMPLATE_RISK_INDICATOR)"
   ]
  },
  {
   "cell_type": "code",
   "execution_count": 5,
   "id": "de33cc1f-f4f5-4633-9e7c-c13dd25ac9ea",
   "metadata": {},
   "outputs": [],
   "source": [
    "#First layer\n",
    "#Define rules\n",
    "DEFRULE_HIGH_LDL = \"\"\"\n",
    "(defrule high_ldl_risk \"High LDL cholesterol risk\"\n",
    "    ?p <- (patient (name_is ?name) (LDL_is ?ldl))\n",
    "    (test (>= ?ldl 190))\n",
    "    =>\n",
    "    (assert (risk_indicator (type high_ldl) (patient_name ?name))))\n",
    "\"\"\"\n",
    "env.build(DEFRULE_HIGH_LDL)\n",
    "\n",
    "DEFRULE_HIGH_BP = \"\"\"\n",
    "(defrule high_bp_risk \"High blood pressure risk\"\n",
    "    ?p <- (patient (name_is ?name) (blood_pressure_is ?bp))\n",
    "    (test (>= ?bp 140))\n",
    "    =>\n",
    "    (assert (risk_indicator (type high_bp) (patient_name ?name))))\n",
    "\"\"\"\n",
    "env.build(DEFRULE_HIGH_BP)\n",
    "\n",
    "DEFRULE_HIGH_LPA = \"\"\"\n",
    "(defrule high_lpa_risk \"Elevated Lp(a) levels risk\"\n",
    "    ?p <- (patient (name_is ?name) (Lp_a_is ?lpa))\n",
    "    (test (>= ?lpa 30))\n",
    "    =>\n",
    "    (assert (risk_indicator (type high_lpa) (patient_name ?name))))\n",
    "\"\"\"\n",
    "env.build(DEFRULE_HIGH_LPA)\n",
    "\n",
    "DEFRULE_SMOKER = \"\"\"\n",
    "(defrule smoker_risk \"Smoking-related risk\"\n",
    "    ?p <- (patient (name_is ?name) (smoking_status_is yes))\n",
    "    =>\n",
    "    (assert (risk_indicator (type smoker) (patient_name ?name))))\n",
    "\"\"\"\n",
    "env.build(DEFRULE_SMOKER)\n",
    "\n",
    "DEFRULE_HIGH_TRIGLYCERIDES = \"\"\"\n",
    "(defrule high_triglycerides_risk \"High triglycerides risk\"\n",
    "    ?p <- (patient (name_is ?name) (triglycerides_is ?tg))\n",
    "    (test (>= ?tg 150))\n",
    "    =>\n",
    "    (assert (risk_indicator (type high_triglycerides) (patient_name ?name))))\n",
    "\"\"\"\n",
    "env.build(DEFRULE_HIGH_TRIGLYCERIDES)\n",
    "\n",
    "DEFRULE_FAMILY_HISTORY = \"\"\"\n",
    "(defrule family_history_risk \"Family history risk\"\n",
    "    ?p <- (patient (name_is ?name) (family_history_is yes))\n",
    "    =>\n",
    "    (assert (risk_indicator (type family_history) (patient_name ?name))))\n",
    "\"\"\"\n",
    "env.build(DEFRULE_FAMILY_HISTORY)\n",
    "\n",
    "#High HDL generally is good\n",
    "DEFRULE_PROTECTIVE_HDL = \"\"\"\n",
    "(defrule protective_hdl \"High HDL is generally protective\"\n",
    "    (patient (name_is ?name) (HDL_is ?hdl))\n",
    "    (test (>= ?hdl 60))\n",
    "    =>\n",
    "    (assert (risk_indicator (type protective_hdl) (patient_name ?name))))\n",
    "\"\"\"\n",
    "env.build(DEFRULE_PROTECTIVE_HDL)\n",
    "\n",
    "DEFRULE_HIGH_RISK_MALE_65_SMOKER = \"\"\"\n",
    "(defrule high_risk_male_65_smoker \"Men >65 who have ever smoked are at higher risk\"\n",
    "    (patient (name_is ?name) (age_is ?age&:(> ?age 65)) (gender_is male) (smoking_status_is yes))\n",
    "    =>\n",
    "    (assert (risk_indicator (type male_65_smoker) (patient_name ?name))))\n",
    "\"\"\"\n",
    "env.build(DEFRULE_HIGH_RISK_MALE_65_SMOKER)"
   ]
  },
  {
   "cell_type": "code",
   "execution_count": 6,
   "id": "3e66d567-c2ae-4a29-bdf9-3dd763378801",
   "metadata": {},
   "outputs": [],
   "source": [
    "#Second layer\n",
    "# If we detect any high-risk indicator, set the patient's overall_risk to high (unless protective HDL modifies it)\n",
    "# We can refine logic: if multiple high-risk factors, high is certain; if protective HDL is present, maybe moderate.\n",
    "\n",
    "DEFRULE_EVALUATE_RISK = \"\"\"\n",
    "(defrule evaluate_risk_factors\n",
    "    ?p <- (patient (name_is ?name) (overall_risk none))\n",
    "    (risk_indicator (patient_name ?name) (type ?type&~protective_hdl))\n",
    "    =>\n",
    "    (retract ?p)\n",
    "    (assert (patient (name_is ?name) (overall_risk high)))\n",
    ")\n",
    "\"\"\"\n",
    "env.build(DEFRULE_EVALUATE_RISK)\n",
    "\n",
    "# If no high-risk factors found but protective HDL present, classify as low risk\n",
    "DEFRULE_EVALUATE_LOW_RISK = \"\"\"\n",
    "(defrule evaluate_low_risk\n",
    "    ?p <- (patient (name_is ?name) (overall_risk none))\n",
    "    (not (risk_indicator (patient_name ?name) (type ~protective_hdl)))\n",
    "    =>\n",
    "    (retract ?p)\n",
    "    (assert (patient (name_is ?name) (overall_risk low)))\n",
    ")\n",
    "\"\"\"\n",
    "env.build(DEFRULE_EVALUATE_LOW_RISK)\n",
    "\n",
    "# If high risk and protective HDL present, consider adjusting risk to moderate\n",
    "DEFRULE_MODERATE_RISK = \"\"\"\n",
    "(defrule moderate_risk_adjustment\n",
    "    ?p <- (patient (name_is ?name) (overall_risk high))\n",
    "    (risk_indicator (patient_name ?name) (type protective_hdl))\n",
    "    =>\n",
    "    (retract ?p)\n",
    "    (assert (patient (name_is ?name) (overall_risk moderate)))\n",
    ")\n",
    "\"\"\"\n",
    "env.build(DEFRULE_MODERATE_RISK)"
   ]
  },
  {
   "cell_type": "code",
   "execution_count": 7,
   "id": "bb673e10-73e6-40d9-8425-fbc99083c05b",
   "metadata": {},
   "outputs": [],
   "source": [
    "DEFRULE_PROVIDE_RECOMMENDATIONS = \"\"\"\n",
    "(defrule provide_recommendations \"Provide recommendations\"\n",
    "    (patient (name_is ?name) (LDL_is ?ldl) (blood_pressure_is ?bp) (smoking_status_is ?smoker) \n",
    "             (family_history_is ?history) (triglycerides_is ?tg) (HDL_is ?hdl) (overall_risk ?risk))\n",
    "    =>\n",
    "    (printout t crlf \"------- RECOMMENDATIONS FOR PATIENT \" ?name \"----------\" crlf)\n",
    "    (printout t \"Overall risk classification: \" ?risk crlf)\n",
    "\n",
    "    (if (>= ?ldl 190) then \n",
    "        (printout t \"- Consider consulting a healthcare provider about lipid-lowering medications.\" crlf))\n",
    "    (if (>= ?bp 140) then \n",
    "        (printout t \"- Adopt a healthier diet, regular exercise routine, and consider antihypertensive options.\" crlf))\n",
    "    (if (eq ?smoker yes) then \n",
    "        (printout t \"- Quit smoking to reduce cardiovascular risks.\" crlf))\n",
    "    (if (eq ?history yes) then \n",
    "        (printout t \"- Family history suggests closer monitoring and possibly earlier interventions.\" crlf))\n",
    "    (if (>= ?tg 150) then \n",
    "        (printout t \"- Consider dietary changes to lower triglycerides (reduce sugar, alcohol, and refined carbs).\" crlf))\n",
    "    (if (< ?hdl 40) then\n",
    "        (printout t \"- Low HDL (<40 mg/dL): consider lifestyle changes to improve HDL.\" crlf))\n",
    "    (if (>= ?hdl 60) then\n",
    "        (printout t \"- Your HDL is high, which is protective. Continue with a healthy lifestyle.\" crlf))\n",
    "    (if (and (eq ?smoker yes) (> (eval (str-cat \"\" ?bp)) 65) (eq ?risk high))\n",
    "        then (printout t \"- Note: Men over 65 who have smoked have increased atherosclerosis risk.\" crlf))\n",
    ")\n",
    "\"\"\"\n",
    "env.build(DEFRULE_PROVIDE_RECOMMENDATIONS)"
   ]
  },
  {
   "cell_type": "code",
   "execution_count": 8,
   "id": "649df74e-a5fd-489d-92ea-c829d1f4b5a9",
   "metadata": {},
   "outputs": [],
   "source": [
    "def get_valid_input(prompt, validation_function=None, error_message=\"Invalid input.\", convert_to_lower=True):\n",
    "    while True:\n",
    "        user_input = input(prompt)\n",
    "        if convert_to_lower and isinstance(user_input, str):\n",
    "            user_input = user_input.lower().strip()\n",
    "        if validation_function is None or validation_function(user_input):\n",
    "            return user_input\n",
    "        else:\n",
    "            print(error_message)\n",
    "\n",
    "def is_valid_gender(g):\n",
    "    return g in [\"male\", \"female\"]\n",
    "\n",
    "def is_valid_yes_no(y):\n",
    "    return y in [\"yes\", \"no\"]\n",
    "\n",
    "def is_valid_float(f):\n",
    "    try:\n",
    "        float(f)\n",
    "        return True\n",
    "    except ValueError:\n",
    "        return False\n",
    "\n",
    "def is_valid_int(i):\n",
    "    try:\n",
    "        int(i)\n",
    "        return True\n",
    "    except ValueError:\n",
    "        return False"
   ]
  },
  {
   "cell_type": "code",
   "execution_count": 9,
   "id": "60a44866-5257-4804-b5d4-e3cd39671a84",
   "metadata": {},
   "outputs": [],
   "source": [
    "def input_data():\n",
    "    name = input(\"Enter patient name: \")\n",
    "    age = int(get_valid_input(\"Enter patient age (in years): \", is_valid_int, \"Please enter a valid integer.\"))\n",
    "    gender = get_valid_input(\"Enter patient gender (male or female): \", is_valid_gender, \"Gender must be 'male' or 'female'.\")\n",
    "    ldl = float(get_valid_input(\"Enter LDL cholesterol level (mg/dL): \", is_valid_float))\n",
    "    hdl = float(get_valid_input(\"Enter HDL cholesterol level (mg/dL): \", is_valid_float))\n",
    "    lpa = float(get_valid_input(\"Enter Lp(a) level (mg/dL): \", is_valid_float))\n",
    "    bp = float(get_valid_input(\"Enter blood pressure (mmHg): \", is_valid_float))\n",
    "    smoking = get_valid_input(\"Is the patient a smoker? (yes or no): \", is_valid_yes_no, \"Smoking status must be 'yes' or 'no'.\")\n",
    "    family_history = get_valid_input(\"Does the patient have a family history of CVD? (yes or no): \", is_valid_yes_no)\n",
    "    triglycerides = float(get_valid_input(\"Enter triglycerides level (mg/dL): \", is_valid_float))\n",
    "\n",
    "    return dict(\n",
    "        name=name,\n",
    "        age=age,\n",
    "        gender=gender,\n",
    "        ldl=ldl,\n",
    "        hdl=hdl,\n",
    "        lpa=lpa,\n",
    "        bp=bp,\n",
    "        smoking=smoking,\n",
    "        family_history=family_history,\n",
    "        triglycerides=triglycerides\n",
    "    )\n",
    "\n",
    "def assert_fact(env, patient_data):\n",
    "    fact_str = f'(patient (name_is \"{patient_data[\"name\"]}\") ' \\\n",
    "               f'(age_is {patient_data[\"age\"]}) ' \\\n",
    "               f'(gender_is {patient_data[\"gender\"]}) ' \\\n",
    "               f'(LDL_is {patient_data[\"ldl\"]}) ' \\\n",
    "               f'(HDL_is {patient_data[\"hdl\"]}) ' \\\n",
    "               f'(Lp_a_is {patient_data[\"lpa\"]}) ' \\\n",
    "               f'(blood_pressure_is {patient_data[\"bp\"]}) ' \\\n",
    "               f'(smoking_status_is {patient_data[\"smoking\"]}) ' \\\n",
    "               f'(family_history_is {patient_data[\"family_history\"]}) ' \\\n",
    "               f'(triglycerides_is {patient_data[\"triglycerides\"]}) ' \\\n",
    "               f'(overall_risk none))'\n",
    "\n",
    "    env.assert_string(fact_str)"
   ]
  },
  {
   "cell_type": "code",
   "execution_count": 10,
   "id": "c6a50eb6-e98d-469d-9667-edb96eefe2dd",
   "metadata": {},
   "outputs": [
    {
     "name": "stdout",
     "output_type": "stream",
     "text": [
      "Welcome to the Atherosclerosis Risk Assessment Expert System.\n",
      "\n"
     ]
    },
    {
     "name": "stdin",
     "output_type": "stream",
     "text": [
      "Enter patient name:  Albert\n",
      "Enter patient age (in years):  80\n",
      "Enter patient gender (male or female):  male\n",
      "Enter LDL cholesterol level (mg/dL):  200\n",
      "Enter HDL cholesterol level (mg/dL):  200\n",
      "Enter Lp(a) level (mg/dL):  2000\n",
      "Enter blood pressure (mmHg):  200\n",
      "Is the patient a smoker? (yes or no):  yes\n",
      "Does the patient have a family history of CVD? (yes or no):  no\n",
      "Enter triglycerides level (mg/dL):  200\n"
     ]
    },
    {
     "name": "stderr",
     "output_type": "stream",
     "text": [
      "------- RECOMMENDATIONS FOR PATIENT Albert----------\n",
      "Overall risk classification: high\n",
      "- Quit smoking to reduce cardiovascular risks.\n",
      "- Family history suggests closer monitoring and possibly earlier interventions.\n",
      "- Low HDL (<40 mg/dL): consider lifestyle changes to improve HDL.\n"
     ]
    },
    {
     "name": "stdin",
     "output_type": "stream",
     "text": [
      "\n",
      "Do you want to evaluate another patient? (yes or no):  no\n"
     ]
    },
    {
     "name": "stdout",
     "output_type": "stream",
     "text": [
      "Thanks for using the system. Goodbye!\n"
     ]
    }
   ],
   "source": [
    "def system():\n",
    "    print(\"Welcome to the Atherosclerosis Risk Assessment Expert System.\\n\")\n",
    "    while True:\n",
    "        patient_data = input_data()\n",
    "        env.reset()\n",
    "        assert_fact(env, patient_data)\n",
    "        env.run()\n",
    "\n",
    "        # Check if user wants keep using\n",
    "        another = get_valid_input(\"\\nDo you want to evaluate another patient? (yes or no): \", is_valid_yes_no)\n",
    "        if another == \"yes\":\n",
    "            env.reset()\n",
    "            system()\n",
    "        if another == \"no\":\n",
    "            print(\"Thanks for using the system. Goodbye!\")\n",
    "            break\n",
    "\n",
    "system()\n"
   ]
  },
  {
   "cell_type": "code",
   "execution_count": 11,
   "id": "6b2369c4-ece0-4552-801a-137ae2011a78",
   "metadata": {},
   "outputs": [
    {
     "name": "stdout",
     "output_type": "stream",
     "text": [
      "(risk_indicator (type high_ldl) (patient_name \"Albert\"))\n",
      "(patient (name_is \"Albert\") (age_is 0) (gender_is male) (LDL_is 0.0) (HDL_is 0.0) (Lp_a_is 0.0) (blood_pressure_is 0.0) (smoking_status_is yes) (family_history_is yes) (triglycerides_is 0.0) (overall_risk high))\n",
      "(risk_indicator (type smoker) (patient_name \"Albert\"))\n",
      "(risk_indicator (type family_history) (patient_name \"Albert\"))\n",
      "Total facts: 4\n"
     ]
    }
   ],
   "source": [
    "print_facts(env)"
   ]
  },
  {
   "cell_type": "code",
   "execution_count": 24,
   "id": "8a9e9a3d-4e6d-4a70-8c74-c743aac1994c",
   "metadata": {},
   "outputs": [
    {
     "ename": "SyntaxError",
     "evalue": "invalid syntax. Perhaps you forgot a comma? (463532008.py, line 1)",
     "output_type": "error",
     "traceback": [
      "\u001b[0;36m  Cell \u001b[0;32mIn[24], line 1\u001b[0;36m\u001b[0m\n\u001b[0;31m    (printout t \"DEBUG: HDL value is \" ?hdl crlf)\u001b[0m\n\u001b[0m     ^\u001b[0m\n\u001b[0;31mSyntaxError\u001b[0m\u001b[0;31m:\u001b[0m invalid syntax. Perhaps you forgot a comma?\n"
     ]
    }
   ],
   "source": []
  },
  {
   "cell_type": "code",
   "execution_count": null,
   "id": "6f4f24c2-4172-446f-97c7-8b349e701a95",
   "metadata": {},
   "outputs": [],
   "source": []
  }
 ],
 "metadata": {
  "kernelspec": {
   "display_name": "Python 3 (ipykernel)",
   "language": "python",
   "name": "python3"
  },
  "language_info": {
   "codemirror_mode": {
    "name": "ipython",
    "version": 3
   },
   "file_extension": ".py",
   "mimetype": "text/x-python",
   "name": "python",
   "nbconvert_exporter": "python",
   "pygments_lexer": "ipython3",
   "version": "3.12.4"
  }
 },
 "nbformat": 4,
 "nbformat_minor": 5
}
